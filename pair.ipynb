{
 "cells": [
  {
   "cell_type": "markdown",
   "id": "193cba79-0eee-4eed-a782-011bd8589d56",
   "metadata": {},
   "source": [
    "### to be paired"
   ]
  },
  {
   "cell_type": "code",
   "execution_count": 1,
   "id": "b0dcb271-af5a-4803-bda9-39b9b8c1a3ad",
   "metadata": {},
   "outputs": [],
   "source": [
    "import numpy as np"
   ]
  },
  {
   "cell_type": "code",
   "execution_count": 5,
   "id": "88c1e800-44cf-4e96-8b9d-d01b2544a790",
   "metadata": {},
   "outputs": [],
   "source": [
    "exponents = np.arange(1, 50, 1)"
   ]
  },
  {
   "cell_type": "code",
   "execution_count": 6,
   "id": "2db8e96b-9a04-43e7-a8f7-6ce3570429c5",
   "metadata": {},
   "outputs": [
    {
     "data": {
      "text/plain": [
       "array([              2,               4,               8,              16,\n",
       "                    32,              64,             128,             256,\n",
       "                   512,            1024,            2048,            4096,\n",
       "                  8192,           16384,           32768,           65536,\n",
       "                131072,          262144,          524288,         1048576,\n",
       "               2097152,         4194304,         8388608,        16777216,\n",
       "              33554432,        67108864,       134217728,       268435456,\n",
       "             536870912,      1073741824,      2147483648,      4294967296,\n",
       "            8589934592,     17179869184,     34359738368,     68719476736,\n",
       "          137438953472,    274877906944,    549755813888,   1099511627776,\n",
       "         2199023255552,   4398046511104,   8796093022208,  17592186044416,\n",
       "        35184372088832,  70368744177664, 140737488355328, 281474976710656,\n",
       "       562949953421312])"
      ]
     },
     "execution_count": 6,
     "metadata": {},
     "output_type": "execute_result"
    }
   ],
   "source": [
    "2**exponents"
   ]
  },
  {
   "cell_type": "code",
   "execution_count": 8,
   "id": "a11c867d-158b-4523-aed8-5b04a5b1339c",
   "metadata": {},
   "outputs": [
    {
     "name": "stdout",
     "output_type": "stream",
     "text": [
      "exponents!\n"
     ]
    }
   ],
   "source": [
    "print('exponents!')"
   ]
  },
  {
   "cell_type": "code",
   "execution_count": null,
   "id": "9070dc82-ef02-4acf-9c24-aa954f031e29",
   "metadata": {},
   "outputs": [],
   "source": []
  }
 ],
 "metadata": {
  "jupytext": {
   "formats": "ipynb,auto:percent"
  },
  "kernelspec": {
   "display_name": "Python 3 (ipykernel)",
   "language": "python",
   "name": "python3"
  },
  "language_info": {
   "codemirror_mode": {
    "name": "ipython",
    "version": 3
   },
   "file_extension": ".py",
   "mimetype": "text/x-python",
   "name": "python",
   "nbconvert_exporter": "python",
   "pygments_lexer": "ipython3",
   "version": "3.9.9"
  }
 },
 "nbformat": 4,
 "nbformat_minor": 5
}
